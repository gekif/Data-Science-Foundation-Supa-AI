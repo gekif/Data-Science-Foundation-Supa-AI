{
 "cells": [
  {
   "metadata": {},
   "cell_type": "markdown",
   "source": "Perintah Pertama Jupiter Notebook",
   "id": "48ff2e41814f68e6"
  },
  {
   "metadata": {
    "ExecuteTime": {
     "end_time": "2025-05-29T07:08:07.924521Z",
     "start_time": "2025-05-29T07:08:07.917946Z"
    }
   },
   "cell_type": "code",
   "source": "print(\"Pycharm siap digunakan\")",
   "id": "initial_id",
   "outputs": [
    {
     "name": "stdout",
     "output_type": "stream",
     "text": [
      "Pycharm siap digunakan\n"
     ]
    }
   ],
   "execution_count": 2
  }
 ],
 "metadata": {
  "kernelspec": {
   "display_name": "Python 3",
   "language": "python",
   "name": "python3"
  },
  "language_info": {
   "codemirror_mode": {
    "name": "ipython",
    "version": 2
   },
   "file_extension": ".py",
   "mimetype": "text/x-python",
   "name": "python",
   "nbconvert_exporter": "python",
   "pygments_lexer": "ipython2",
   "version": "2.7.6"
  }
 },
 "nbformat": 4,
 "nbformat_minor": 5
}
